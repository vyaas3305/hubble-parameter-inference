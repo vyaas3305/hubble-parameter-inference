{
 "cells": [
  {
   "cell_type": "code",
   "execution_count": 3,
   "id": "2b5b2a0a-533d-4a54-a16d-870ec37e558f",
   "metadata": {
    "tags": []
   },
   "outputs": [],
   "source": [
    "import numpy as np\n",
    "import pandas as pd"
   ]
  },
  {
   "cell_type": "code",
   "execution_count": 4,
   "id": "e65809b1-67ff-4bc9-9595-26eea8bc18e3",
   "metadata": {
    "tags": []
   },
   "outputs": [],
   "source": [
    "data = pd.read_csv('data.csv')"
   ]
  },
  {
   "cell_type": "code",
   "execution_count": 5,
   "id": "7e3cba39-0577-42a9-8bce-5c067bb7817d",
   "metadata": {
    "tags": []
   },
   "outputs": [
    {
     "data": {
      "text/plain": [
       "(28, 3)"
      ]
     },
     "execution_count": 5,
     "metadata": {},
     "output_type": "execute_result"
    }
   ],
   "source": [
    "data.shape"
   ]
  },
  {
   "cell_type": "code",
   "execution_count": 6,
   "id": "b3f614af-9722-43fb-974d-a9c13498db62",
   "metadata": {
    "tags": []
   },
   "outputs": [
    {
     "data": {
      "text/html": [
       "<div>\n",
       "<style scoped>\n",
       "    .dataframe tbody tr th:only-of-type {\n",
       "        vertical-align: middle;\n",
       "    }\n",
       "\n",
       "    .dataframe tbody tr th {\n",
       "        vertical-align: top;\n",
       "    }\n",
       "\n",
       "    .dataframe thead th {\n",
       "        text-align: right;\n",
       "    }\n",
       "</style>\n",
       "<table border=\"1\" class=\"dataframe\">\n",
       "  <thead>\n",
       "    <tr style=\"text-align: right;\">\n",
       "      <th></th>\n",
       "      <th>Redshift</th>\n",
       "      <th>Hubble parameter(km/s/Mpc)</th>\n",
       "      <th>Error in Hubble Parameter(km/s/Mpc)</th>\n",
       "    </tr>\n",
       "  </thead>\n",
       "  <tbody>\n",
       "    <tr>\n",
       "      <th>0</th>\n",
       "      <td>0.070</td>\n",
       "      <td>69.0</td>\n",
       "      <td>19.6</td>\n",
       "    </tr>\n",
       "    <tr>\n",
       "      <th>1</th>\n",
       "      <td>0.100</td>\n",
       "      <td>69.0</td>\n",
       "      <td>12.0</td>\n",
       "    </tr>\n",
       "    <tr>\n",
       "      <th>2</th>\n",
       "      <td>0.120</td>\n",
       "      <td>68.6</td>\n",
       "      <td>26.2</td>\n",
       "    </tr>\n",
       "    <tr>\n",
       "      <th>3</th>\n",
       "      <td>0.170</td>\n",
       "      <td>83.0</td>\n",
       "      <td>8.0</td>\n",
       "    </tr>\n",
       "    <tr>\n",
       "      <th>4</th>\n",
       "      <td>0.179</td>\n",
       "      <td>75.0</td>\n",
       "      <td>4.0</td>\n",
       "    </tr>\n",
       "  </tbody>\n",
       "</table>\n",
       "</div>"
      ],
      "text/plain": [
       "   Redshift  Hubble parameter(km/s/Mpc)  Error in Hubble Parameter(km/s/Mpc)\n",
       "0     0.070                        69.0                                 19.6\n",
       "1     0.100                        69.0                                 12.0\n",
       "2     0.120                        68.6                                 26.2\n",
       "3     0.170                        83.0                                  8.0\n",
       "4     0.179                        75.0                                  4.0"
      ]
     },
     "execution_count": 6,
     "metadata": {},
     "output_type": "execute_result"
    }
   ],
   "source": [
    "data.head()"
   ]
  },
  {
   "cell_type": "code",
   "execution_count": 8,
   "id": "0d6082be-dde2-42a0-be2e-b5c6e3cdcd5c",
   "metadata": {
    "tags": []
   },
   "outputs": [
    {
     "data": {
      "text/plain": [
       "Redshift                               0\n",
       "Hubble parameter(km/s/Mpc)             0\n",
       "Error in Hubble Parameter(km/s/Mpc)    0\n",
       "dtype: int64"
      ]
     },
     "execution_count": 8,
     "metadata": {},
     "output_type": "execute_result"
    }
   ],
   "source": [
    "data.isnull().sum()"
   ]
  },
  {
   "cell_type": "code",
   "execution_count": null,
   "id": "07bb2d69-28c1-47fd-9126-940655f93a7b",
   "metadata": {},
   "outputs": [],
   "source": [
    "from sklearn.preprocessing import StandardScaler\n",
    "\n",
    "\n",
    "scaler = StandardScaler()\n",
    "\n",
    "X_train_scaled = pd.DataFrame(scaler.fit_transform(X_train))\n",
    "\n",
    "\n",
    "X_test_scaled = pd.DataFrame(scaler.transform(X_test))\n"
   ]
  },
  {
   "cell_type": "code",
   "execution_count": null,
   "id": "fd1ba5e0-da72-4be8-829b-0f16f22e5830",
   "metadata": {},
   "outputs": [],
   "source": [
    "\n",
    "X_train, X_test, y_train, y_test = train_test_split(X, y, test_size=0.2, random_state=42)\n",
    "\n"
   ]
  },
  {
   "cell_type": "code",
   "execution_count": 9,
   "id": "f04b3a17-6236-49c5-abef-6391edd5ce5b",
   "metadata": {
    "tags": []
   },
   "outputs": [],
   "source": [
    "H_o_max = 73.04+1.04\n",
    "H_o_min = 73.04-1.04"
   ]
  },
  {
   "cell_type": "code",
   "execution_count": null,
   "id": "92e08886-bfb5-422a-bc44-a5fbe2adf714",
   "metadata": {},
   "outputs": [],
   "source": [
    "z_obs = np.asarray(data['Redshift'])\n",
    "H_obs = np.asarray(data['Hubble parameter(km/s/Mpc)'])\n",
    "err = np.asarray(data['Error in Hubble Parameter(km/s/Mpc)'])"
   ]
  },
  {
   "cell_type": "code",
   "execution_count": 33,
   "id": "c36bab5a-a349-4866-80c8-57c0cbcdc6bc",
   "metadata": {
    "tags": []
   },
   "outputs": [
    {
     "name": "stderr",
     "output_type": "stream",
     "text": [
      " 63%|████████████████████████████████████████████████▏                            | 3127/5000 [00:03<00:02, 919.66it/s]C:\\Users\\shrir\\anaconda3\\envs\\tf-gpu\\lib\\site-packages\\numpy\\core\\fromnumeric.py:88: RuntimeWarning: overflow encountered in reduce\n",
      "  return ufunc.reduce(obj, axis, dtype, out, **passkwargs)\n",
      "C:\\Users\\shrir\\anaconda3\\envs\\tf-gpu\\lib\\site-packages\\emcee\\moves\\red_blue.py:99: RuntimeWarning: invalid value encountered in scalar subtract\n",
      "  lnpdiff = f + nlp - state.log_prob[j]\n",
      "100%|█████████████████████████████████████████████████████████████████████████████| 5000/5000 [00:05<00:00, 877.05it/s]\n",
      "WARNING:root:Too few points to create valid contours\n",
      "WARNING:root:Too few points to create valid contours\n",
      "WARNING:root:Too few points to create valid contours\n",
      "C:\\Users\\shrir\\AppData\\Local\\Temp\\ipykernel_13616\\709882078.py:63: UserWarning: FigureCanvasAgg is non-interactive, and thus cannot be shown\n",
      "  fig.show()\n"
     ]
    },
    {
     "name": "stdout",
     "output_type": "stream",
     "text": [
      "Best values:\n",
      "m: 0.25598546954856466\n",
      "k: -0.019056740485768046\n",
      "Omega_Lambda: 0.6366009738314421\n"
     ]
    },
    {
     "data": {
      "image/png": "[encoded data removed]",
      "text/plain": [
       "<Figure size 760x760 with 9 Axes>"
      ]
     },
     "metadata": {},
     "output_type": "display_data"
    }
   ],
   "source": [
    "import numpy as np\n",
    "import scipy.optimize as optimize\n",
    "import emcee\n",
    "import corner\n",
    "\n",
    "# Define the Hubble Parameter function\n",
    "def Hubble_Parameter(z, H0, m, k, Omega_Lambda):\n",
    "    temp = m * (1 + z)**3 + k * (1 + z)**2 + Omega_Lambda\n",
    "    if (temp >= 0).all():\n",
    "\n",
    "        result= H0[0] * np.sqrt(temp)\n",
    "    else:\n",
    "        result = 0\n",
    "    \n",
    "    return result\n",
    "    \n",
    "\n",
    "# Define the likelihood function\n",
    "def log_likelihood(params, z, H_obs, err):\n",
    "    m, k, Omega_Lambda = params\n",
    "      # km/s/Mpc\n",
    "    H_model = Hubble_Parameter(z, H0, m, k, Omega_Lambda)\n",
    "    return -0.5 * np.sum(((H_obs - H_model) / err)**2)\n",
    "\n",
    "# Define the negative log-likelihood function\n",
    "def neg_log_likelihood(params, z, H_obs, err):\n",
    "    return -log_likelihood(params, z, H_obs, err)\n",
    "\n",
    "\n",
    "H0 = (73.04,1.04)\n",
    "\n",
    "\n",
    "\n",
    "# Initial guess for the parameters\n",
    "initial_guess = [0.2, 0.1, 0.8]  # Initial guess for m, k, Omega_Lambda\n",
    "\n",
    "# Use scipy.optimize to find the best-fit parameters\n",
    "result = optimize.minimize(neg_log_likelihood, initial_guess, args=(z_obs, H_obs, err),options={'maxiter': 1000})\n",
    "best_fit_params = result.x\n",
    "\n",
    "# Define the number of walkers and number of steps for MCMC\n",
    "nwalkers = 32\n",
    "nsteps = 5000\n",
    "\n",
    "# Initialize walkers with small perturbations around the best-fit parameters\n",
    "pos = [best_fit_params + 1e-4*np.random.randn(len(best_fit_params)) for _ in range(nwalkers)]\n",
    "\n",
    "# Set up the MCMC sampler\n",
    "sampler = emcee.EnsembleSampler(nwalkers, len(best_fit_params), neg_log_likelihood, args=(z_obs, H_obs, err))\n",
    "\n",
    "# Run MCMC sampling\n",
    "sampler.run_mcmc(pos, nsteps, progress=True)\n",
    "\n",
    "# Extract samples from the MCMC chain\n",
    "samples = sampler.get_chain()\n",
    "print(\"Best values:\")\n",
    "print(\"m:\", best_fit_params[0])\n",
    "print(\"k:\", best_fit_params[1])\n",
    "print(\"Omega_Lambda:\", best_fit_params[2])\n",
    "\n",
    "# Plot 1D and 2D marginalized probability distributions\n",
    "fig = corner.corner(samples.reshape(-1, len(best_fit_params)), labels=[\"m\", \"k\", \"Omega_Lambda\"], truths=best_fit_params)\n",
    "fig.show()\n"
   ]
  },
  {
   "cell_type": "code",
   "execution_count": null,
   "id": "7e8bdefd-745c-48fc-872d-1c5ced5e72ac",
   "metadata": {},
   "outputs": [],
   "source": []
  }
 ],
 "metadata": {
  "kernelspec": {
   "display_name": "tf_gpu",
   "language": "python",
   "name": "tf_gpu"
  },
  "language_info": {
   "codemirror_mode": {
    "name": "ipython",
    "version": 3
   },
   "file_extension": ".py",
   "mimetype": "text/x-python",
   "name": "python",
   "nbconvert_exporter": "python",
   "pygments_lexer": "ipython3",
   "version": "3.9.18"
  }
 },
 "nbformat": 4,
 "nbformat_minor": 5
}
